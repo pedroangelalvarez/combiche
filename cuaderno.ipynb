{
 "metadata": {
  "language_info": {
   "codemirror_mode": {
    "name": "ipython",
    "version": 3
   },
   "file_extension": ".py",
   "mimetype": "text/x-python",
   "name": "python",
   "nbconvert_exporter": "python",
   "pygments_lexer": "ipython3",
   "version": "3.7.3-final"
  },
  "orig_nbformat": 2,
  "kernelspec": {
   "name": "python_defaultSpec_1597449438835",
   "display_name": "Python 3.7.3 64-bit ('venv': venv)"
  }
 },
 "nbformat": 4,
 "nbformat_minor": 2,
 "cells": [
  {
   "cell_type": "code",
   "execution_count": null,
   "metadata": {},
   "outputs": [],
   "source": [
    "python3 -m venv wenv"
   ]
  },
  {
   "cell_type": "code",
   "execution_count": null,
   "metadata": {},
   "outputs": [],
   "source": [
    ".\\wenv\\Scripts\\activate"
   ]
  },
  {
   "cell_type": "code",
   "execution_count": 1,
   "metadata": {
    "tags": []
   },
   "outputs": [
    {
     "output_type": "stream",
     "name": "stdout",
     "text": "Requirement already up-to-date: pip in ./venv/lib/python3.7/site-packages (20.2.2)\nNote: you may need to restart the kernel to use updated packages.\n"
    }
   ],
   "source": [
    "pip install --upgrade pip"
   ]
  },
  {
   "cell_type": "code",
   "execution_count": 2,
   "metadata": {
    "tags": []
   },
   "outputs": [
    {
     "output_type": "stream",
     "name": "stdout",
     "text": "Requirement already satisfied: numpy in ./venv/lib/python3.7/site-packages (1.19.1)\nNote: you may need to restart the kernel to use updated packages.\n"
    }
   ],
   "source": [
    "pip install numpy"
   ]
  },
  {
   "cell_type": "code",
   "execution_count": 3,
   "metadata": {
    "tags": []
   },
   "outputs": [
    {
     "output_type": "stream",
     "name": "stdout",
     "text": "Requirement already satisfied: pandas in ./venv/lib/python3.7/site-packages (1.1.0)\nRequirement already satisfied: python-dateutil>=2.7.3 in ./venv/lib/python3.7/site-packages (from pandas) (2.8.1)\nRequirement already satisfied: numpy>=1.15.4 in ./venv/lib/python3.7/site-packages (from pandas) (1.19.1)\nRequirement already satisfied: pytz>=2017.2 in ./venv/lib/python3.7/site-packages (from pandas) (2020.1)\nRequirement already satisfied: six>=1.5 in ./venv/lib/python3.7/site-packages (from python-dateutil>=2.7.3->pandas) (1.15.0)\nNote: you may need to restart the kernel to use updated packages.\n"
    }
   ],
   "source": [
    "pip install pandas"
   ]
  },
  {
   "cell_type": "code",
   "execution_count": 8,
   "metadata": {
    "tags": []
   },
   "outputs": [
    {
     "output_type": "stream",
     "name": "stdout",
     "text": "Requirement already satisfied: bokeh in ./pruebas/combiche/venv/lib/python3.7/site-packages (2.1.1)\nRequirement already satisfied: packaging>=16.8 in ./pruebas/combiche/venv/lib/python3.7/site-packages (from bokeh) (20.4)\nRequirement already satisfied: python-dateutil>=2.1 in ./pruebas/combiche/venv/lib/python3.7/site-packages (from bokeh) (2.8.1)\nRequirement already satisfied: Jinja2>=2.7 in ./pruebas/combiche/venv/lib/python3.7/site-packages (from bokeh) (2.11.2)\nRequirement already satisfied: tornado>=5.1 in ./pruebas/combiche/venv/lib/python3.7/site-packages (from bokeh) (6.0.4)\nRequirement already satisfied: numpy>=1.11.3 in ./pruebas/combiche/venv/lib/python3.7/site-packages (from bokeh) (1.19.1)\nRequirement already satisfied: PyYAML>=3.10 in ./pruebas/combiche/venv/lib/python3.7/site-packages (from bokeh) (5.3.1)\nRequirement already satisfied: pillow>=4.0 in ./pruebas/combiche/venv/lib/python3.7/site-packages (from bokeh) (7.2.0)\nRequirement already satisfied: typing-extensions>=3.7.4 in ./pruebas/combiche/venv/lib/python3.7/site-packages (from bokeh) (3.7.4.2)\nRequirement already satisfied: six in ./pruebas/combiche/venv/lib/python3.7/site-packages (from packaging>=16.8->bokeh) (1.15.0)\nRequirement already satisfied: pyparsing>=2.0.2 in ./pruebas/combiche/venv/lib/python3.7/site-packages (from packaging>=16.8->bokeh) (2.4.7)\nRequirement already satisfied: MarkupSafe>=0.23 in ./pruebas/combiche/venv/lib/python3.7/site-packages (from Jinja2>=2.7->bokeh) (1.1.1)\n\u001b[33mWARNING: You are using pip version 20.1.1; however, version 20.2.2 is available.\nYou should consider upgrading via the '/home/pedro/pruebas/combiche/venv/bin/python3.7 -m pip install --upgrade pip' command.\u001b[0m\nNote: you may need to restart the kernel to use updated packages.\n"
    }
   ],
   "source": [
    "pip install bokeh"
   ]
  },
  {
   "cell_type": "code",
   "execution_count": 4,
   "metadata": {
    "tags": []
   },
   "outputs": [
    {
     "output_type": "stream",
     "name": "stdout",
     "text": "Requirement already satisfied: matplotlib in ./venv/lib/python3.7/site-packages (3.3.1)\nRequirement already satisfied: python-dateutil>=2.1 in ./venv/lib/python3.7/site-packages (from matplotlib) (2.8.1)\nRequirement already satisfied: cycler>=0.10 in ./venv/lib/python3.7/site-packages (from matplotlib) (0.10.0)\nRequirement already satisfied: pyparsing!=2.0.4,!=2.1.2,!=2.1.6,>=2.0.3 in ./venv/lib/python3.7/site-packages (from matplotlib) (2.4.7)\nRequirement already satisfied: certifi>=2020.06.20 in ./venv/lib/python3.7/site-packages (from matplotlib) (2020.6.20)\nRequirement already satisfied: kiwisolver>=1.0.1 in ./venv/lib/python3.7/site-packages (from matplotlib) (1.2.0)\nRequirement already satisfied: pillow>=6.2.0 in ./venv/lib/python3.7/site-packages (from matplotlib) (7.2.0)\nRequirement already satisfied: numpy>=1.15 in ./venv/lib/python3.7/site-packages (from matplotlib) (1.19.1)\nRequirement already satisfied: six>=1.5 in ./venv/lib/python3.7/site-packages (from python-dateutil>=2.1->matplotlib) (1.15.0)\nNote: you may need to restart the kernel to use updated packages.\n"
    }
   ],
   "source": [
    "pip install matplotlib"
   ]
  },
  {
   "cell_type": "code",
   "execution_count": 12,
   "metadata": {
    "tags": []
   },
   "outputs": [
    {
     "output_type": "stream",
     "name": "stdout",
     "text": "Requirement already satisfied: tk in ./venv/lib/python3.7/site-packages (0.1.0)\nNote: you may need to restart the kernel to use updated packages.\n"
    }
   ],
   "source": [
    "pip install tk"
   ]
  },
  {
   "cell_type": "code",
   "execution_count": 19,
   "metadata": {
    "tags": []
   },
   "outputs": [
    {
     "output_type": "stream",
     "name": "stdout",
     "text": "Requirement already satisfied: pyttk in ./venv/lib/python3.7/site-packages (0.3.2)\nNote: you may need to restart the kernel to use updated packages.\n"
    }
   ],
   "source": [
    "pip install pyttk"
   ]
  },
  {
   "cell_type": "code",
   "execution_count": 29,
   "metadata": {
    "tags": []
   },
   "outputs": [
    {
     "output_type": "stream",
     "name": "stdout",
     "text": "Collecting tensorflow\n  Downloading tensorflow-2.3.0-cp37-cp37m-manylinux2010_x86_64.whl (320.4 MB)\n\u001b[K     |████████████████████████████████| 320.4 MB 4.0 kB/s \n\u001b[?25hCollecting numpy<1.19.0,>=1.16.0\n  Downloading numpy-1.18.5-cp37-cp37m-manylinux1_x86_64.whl (20.1 MB)\n\u001b[K     |████████████████████████████████| 20.1 MB 4.6 MB/s \n\u001b[?25hRequirement already satisfied: wheel>=0.26 in ./venv/lib/python3.7/site-packages (from tensorflow) (0.34.2)\nCollecting gast==0.3.3\n  Downloading gast-0.3.3-py2.py3-none-any.whl (9.7 kB)\nCollecting tensorflow-estimator<2.4.0,>=2.3.0\n  Downloading tensorflow_estimator-2.3.0-py2.py3-none-any.whl (459 kB)\n\u001b[K     |████████████████████████████████| 459 kB 4.5 MB/s \n\u001b[?25hCollecting absl-py>=0.7.0\n  Downloading absl-py-0.9.0.tar.gz (104 kB)\n\u001b[K     |████████████████████████████████| 104 kB 3.7 MB/s \n\u001b[?25hCollecting scipy==1.4.1\n  Downloading scipy-1.4.1-cp37-cp37m-manylinux1_x86_64.whl (26.1 MB)\n\u001b[K     |████████████████████████████████| 26.1 MB 7.9 MB/s \n\u001b[?25hCollecting google-pasta>=0.1.8\n  Downloading google_pasta-0.2.0-py3-none-any.whl (57 kB)\n\u001b[K     |████████████████████████████████| 57 kB 523 kB/s \n\u001b[?25hCollecting termcolor>=1.1.0\n  Using cached termcolor-1.1.0.tar.gz (3.9 kB)\nCollecting astunparse==1.6.3\n  Downloading astunparse-1.6.3-py2.py3-none-any.whl (12 kB)\nCollecting grpcio>=1.8.6\n  Downloading grpcio-1.31.0-cp37-cp37m-manylinux2014_x86_64.whl (3.4 MB)\n\u001b[K     |████████████████████████████████| 3.4 MB 5.8 MB/s \n\u001b[?25hCollecting protobuf>=3.9.2\n  Downloading protobuf-3.13.0-cp37-cp37m-manylinux1_x86_64.whl (1.3 MB)\n\u001b[K     |████████████████████████████████| 1.3 MB 3.7 MB/s \n\u001b[?25hCollecting tensorboard<3,>=2.3.0\n  Downloading tensorboard-2.3.0-py3-none-any.whl (6.8 MB)\n\u001b[K     |████████████████████████████████| 6.8 MB 13 kB/s \n\u001b[?25hCollecting opt-einsum>=2.3.2\n  Downloading opt_einsum-3.3.0-py3-none-any.whl (65 kB)\n\u001b[K     |████████████████████████████████| 65 kB 304 kB/s \n\u001b[?25hCollecting keras-preprocessing<1.2,>=1.1.1\n  Downloading Keras_Preprocessing-1.1.2-py2.py3-none-any.whl (42 kB)\n\u001b[K     |████████████████████████████████| 42 kB 154 kB/s \n\u001b[?25hCollecting wrapt>=1.11.1\n  Downloading wrapt-1.12.1.tar.gz (27 kB)\nRequirement already satisfied: h5py<2.11.0,>=2.10.0 in ./venv/lib/python3.7/site-packages (from tensorflow) (2.10.0)\nRequirement already satisfied: six>=1.12.0 in ./venv/lib/python3.7/site-packages (from tensorflow) (1.15.0)\nRequirement already satisfied: setuptools in ./venv/lib/python3.7/site-packages (from protobuf>=3.9.2->tensorflow) (49.2.0)\nCollecting markdown>=2.6.8\n  Downloading Markdown-3.2.2-py3-none-any.whl (88 kB)\n\u001b[K     |████████████████████████████████| 88 kB 1.1 MB/s \n\u001b[?25hCollecting google-auth-oauthlib<0.5,>=0.4.1\n  Downloading google_auth_oauthlib-0.4.1-py2.py3-none-any.whl (18 kB)\nCollecting requests<3,>=2.21.0\n  Downloading requests-2.24.0-py2.py3-none-any.whl (61 kB)\n\u001b[K     |████████████████████████████████| 61 kB 7.8 kB/s \n\u001b[?25hCollecting google-auth<2,>=1.6.3\n  Downloading google_auth-1.20.1-py2.py3-none-any.whl (91 kB)\n\u001b[K     |████████████████████████████████| 91 kB 1.1 MB/s \n\u001b[?25hCollecting werkzeug>=0.11.15\n  Downloading Werkzeug-1.0.1-py2.py3-none-any.whl (298 kB)\n\u001b[K     |████████████████████████████████| 298 kB 6.7 MB/s \n\u001b[?25hCollecting tensorboard-plugin-wit>=1.6.0\n  Downloading tensorboard_plugin_wit-1.7.0-py3-none-any.whl (779 kB)\n\u001b[K     |████████████████████████████████| 779 kB 2.9 MB/s \n\u001b[?25hCollecting importlib-metadata; python_version < \"3.8\"\n  Downloading importlib_metadata-1.7.0-py2.py3-none-any.whl (31 kB)\nCollecting requests-oauthlib>=0.7.0\n  Downloading requests_oauthlib-1.3.0-py2.py3-none-any.whl (23 kB)\nCollecting chardet<4,>=3.0.2\n  Using cached chardet-3.0.4-py2.py3-none-any.whl (133 kB)\nCollecting idna<3,>=2.5\n  Using cached idna-2.10-py2.py3-none-any.whl (58 kB)\nCollecting urllib3!=1.25.0,!=1.25.1,<1.26,>=1.21.1\n  Using cached urllib3-1.25.10-py2.py3-none-any.whl (127 kB)\nRequirement already satisfied: certifi>=2017.4.17 in ./venv/lib/python3.7/site-packages (from requests<3,>=2.21.0->tensorboard<3,>=2.3.0->tensorflow) (2020.6.20)\nCollecting cachetools<5.0,>=2.0.0\n  Downloading cachetools-4.1.1-py3-none-any.whl (10 kB)\nCollecting rsa<5,>=3.1.4; python_version >= \"3.5\"\n  Downloading rsa-4.6-py3-none-any.whl (47 kB)\n\u001b[K     |████████████████████████████████| 47 kB 354 kB/s \n\u001b[?25hCollecting pyasn1-modules>=0.2.1\n  Using cached pyasn1_modules-0.2.8-py2.py3-none-any.whl (155 kB)\nCollecting zipp>=0.5\n  Using cached zipp-3.1.0-py3-none-any.whl (4.9 kB)\nCollecting oauthlib>=3.0.0\n  Downloading oauthlib-3.1.0-py2.py3-none-any.whl (147 kB)\n\u001b[K     |████████████████████████████████| 147 kB 7.7 MB/s \n\u001b[?25hCollecting pyasn1>=0.1.3\n  Using cached pyasn1-0.4.8-py2.py3-none-any.whl (77 kB)\nBuilding wheels for collected packages: absl-py, termcolor, wrapt\n  Building wheel for absl-py (setup.py) ... \u001b[?25ldone\n\u001b[?25h  Created wheel for absl-py: filename=absl_py-0.9.0-py3-none-any.whl size=121931 sha256=9d6ac1c4f6fe956c5a7ea9c1c25edb72d814db64a7dbef918ec3fc3eb992a75a\n  Stored in directory: /home/pedro/.cache/pip/wheels/cc/af/1a/498a24d0730ef484019e007bb9e8cef3ac00311a672c049a3e\n  Building wheel for termcolor (setup.py) ... \u001b[?25ldone\n\u001b[?25h  Created wheel for termcolor: filename=termcolor-1.1.0-py3-none-any.whl size=4830 sha256=e6f4acd4043c7cc19a965694b999da32c45f83e8fec3d2305162912dd95dd018\n  Stored in directory: /home/pedro/.cache/pip/wheels/3f/e3/ec/8a8336ff196023622fbcb36de0c5a5c218cbb24111d1d4c7f2\n  Building wheel for wrapt (setup.py) ... \u001b[?25ldone\n\u001b[?25h  Created wheel for wrapt: filename=wrapt-1.12.1-cp37-cp37m-linux_x86_64.whl size=70953 sha256=e08fd44b436f1a127013f7c18453a9a0c16eec8040cd26fa352abd5d80d69fea\n  Stored in directory: /home/pedro/.cache/pip/wheels/62/76/4c/aa25851149f3f6d9785f6c869387ad82b3fd37582fa8147ac6\nSuccessfully built absl-py termcolor wrapt\nInstalling collected packages: numpy, gast, tensorflow-estimator, absl-py, scipy, google-pasta, termcolor, astunparse, grpcio, protobuf, zipp, importlib-metadata, markdown, cachetools, pyasn1, rsa, pyasn1-modules, google-auth, chardet, idna, urllib3, requests, oauthlib, requests-oauthlib, google-auth-oauthlib, werkzeug, tensorboard-plugin-wit, tensorboard, opt-einsum, keras-preprocessing, wrapt, tensorflow\n  Attempting uninstall: numpy\n    Found existing installation: numpy 1.19.1\n    Uninstalling numpy-1.19.1:\n      Successfully uninstalled numpy-1.19.1\n  Attempting uninstall: scipy\n    Found existing installation: scipy 1.5.2\n    Uninstalling scipy-1.5.2:\n      Successfully uninstalled scipy-1.5.2\nSuccessfully installed absl-py-0.9.0 astunparse-1.6.3 cachetools-4.1.1 chardet-3.0.4 gast-0.3.3 google-auth-1.20.1 google-auth-oauthlib-0.4.1 google-pasta-0.2.0 grpcio-1.31.0 idna-2.10 importlib-metadata-1.7.0 keras-preprocessing-1.1.2 markdown-3.2.2 numpy-1.18.5 oauthlib-3.1.0 opt-einsum-3.3.0 protobuf-3.13.0 pyasn1-0.4.8 pyasn1-modules-0.2.8 requests-2.24.0 requests-oauthlib-1.3.0 rsa-4.6 scipy-1.4.1 tensorboard-2.3.0 tensorboard-plugin-wit-1.7.0 tensorflow-2.3.0 tensorflow-estimator-2.3.0 termcolor-1.1.0 urllib3-1.25.10 werkzeug-1.0.1 wrapt-1.12.1 zipp-3.1.0\nNote: you may need to restart the kernel to use updated packages.\n"
    }
   ],
   "source": [
    "pip install tensorflow"
   ]
  },
  {
   "cell_type": "code",
   "execution_count": 23,
   "metadata": {
    "tags": []
   },
   "outputs": [
    {
     "output_type": "stream",
     "name": "stdout",
     "text": "Collecting keras\n  Downloading Keras-2.4.3-py2.py3-none-any.whl (36 kB)\nRequirement already satisfied: pyyaml in ./venv/lib/python3.7/site-packages (from keras) (5.3.1)\nCollecting scipy>=0.14\n  Downloading scipy-1.5.2-cp37-cp37m-manylinux1_x86_64.whl (25.9 MB)\n\u001b[K     |████████████████████████████████| 25.9 MB 9.7 kB/s \n\u001b[?25hRequirement already satisfied: numpy>=1.9.1 in ./venv/lib/python3.7/site-packages (from keras) (1.19.1)\nCollecting h5py\n  Downloading h5py-2.10.0-cp37-cp37m-manylinux1_x86_64.whl (2.9 MB)\n\u001b[K     |████████████████████████████████| 2.9 MB 2.4 MB/s \n\u001b[?25hRequirement already satisfied: six in ./venv/lib/python3.7/site-packages (from h5py->keras) (1.15.0)\nInstalling collected packages: scipy, h5py, keras\nSuccessfully installed h5py-2.10.0 keras-2.4.3 scipy-1.5.2\nNote: you may need to restart the kernel to use updated packages.\n"
    }
   ],
   "source": [
    "pip install keras"
   ]
  },
  {
   "cell_type": "code",
   "execution_count": 25,
   "metadata": {
    "tags": []
   },
   "outputs": [
    {
     "output_type": "stream",
     "name": "stdout",
     "text": "Collecting sklearn\n  Using cached sklearn-0.0.tar.gz (1.1 kB)\nCollecting scikit-learn\n  Downloading scikit_learn-0.23.2-cp37-cp37m-manylinux1_x86_64.whl (6.8 MB)\n\u001b[K     |████████████████████████████████| 6.8 MB 2.7 MB/s \n\u001b[?25hRequirement already satisfied: numpy>=1.13.3 in ./venv/lib/python3.7/site-packages (from scikit-learn->sklearn) (1.19.1)\nCollecting threadpoolctl>=2.0.0\n  Downloading threadpoolctl-2.1.0-py3-none-any.whl (12 kB)\nCollecting joblib>=0.11\n  Downloading joblib-0.16.0-py3-none-any.whl (300 kB)\n\u001b[K     |████████████████████████████████| 300 kB 3.3 MB/s \n\u001b[?25hRequirement already satisfied: scipy>=0.19.1 in ./venv/lib/python3.7/site-packages (from scikit-learn->sklearn) (1.5.2)\nBuilding wheels for collected packages: sklearn\n  Building wheel for sklearn (setup.py) ... \u001b[?25ldone\n\u001b[?25h  Created wheel for sklearn: filename=sklearn-0.0-py2.py3-none-any.whl size=1315 sha256=54883209ea89481949659efbf74e1514d229474a238f38a4f88587dc6ce47bf6\n  Stored in directory: /home/pedro/.cache/pip/wheels/46/ef/c3/157e41f5ee1372d1be90b09f74f82b10e391eaacca8f22d33e\nSuccessfully built sklearn\nInstalling collected packages: threadpoolctl, joblib, scikit-learn, sklearn\nSuccessfully installed joblib-0.16.0 scikit-learn-0.23.2 sklearn-0.0 threadpoolctl-2.1.0\nNote: you may need to restart the kernel to use updated packages.\n"
    }
   ],
   "source": [
    "pip install sklearn"
   ]
  },
  {
   "cell_type": "code",
   "execution_count": 30,
   "metadata": {
    "tags": []
   },
   "outputs": [
    {
     "output_type": "stream",
     "name": "stdout",
     "text": "Note: you may need to restart the kernel to use updated packages.\n"
    }
   ],
   "source": [
    "pip freeze > ./requeriments.txt"
   ]
  }
 ]
}